{
  "nbformat": 4,
  "nbformat_minor": 0,
  "metadata": {
    "colab": {
      "name": "Classification all algo.ipynb",
      "provenance": [],
      "collapsed_sections": []
    },
    "kernelspec": {
      "display_name": "Python 3",
      "name": "python3"
    },
    "language_info": {
      "name": "python"
    }
  },
  "cells": [
    {
      "cell_type": "code",
      "metadata": {
        "id": "uF2weZI-RBVR"
      },
      "source": [
        "import pandas as pd\n",
        "import numpy as np\n",
        "import matplotlib.pyplot as plt \n",
        "from sklearn import preprocessing\n",
        "from sklearn.model_selection import train_test_split\n",
        "import seaborn as sns\n",
        "from sklearn.metrics import confusion_matrix, classification_report\n",
        "import csv\n",
        "dataset=\"weatherAUS.csv\"\n",
        "dataset = pd.read_csv(dataset)\n",
        "df=pd.DataFrame(dataset)"
      ],
      "execution_count": null,
      "outputs": []
    },
    {
      "cell_type": "markdown",
      "metadata": {
        "id": "YqLlOczZ4RM_"
      },
      "source": [
        "***PreProcessing***"
      ]
    },
    {
      "cell_type": "code",
      "metadata": {
        "id": "RYSdgKCoML50"
      },
      "source": [
        "df['RainToday']=df['RainToday'].fillna('No')\n",
        "df['RainTomorrow']=df['RainTomorrow'].fillna('No')\n",
        "df['WindDir9am']=df['WindDir9am'].astype(str)\n",
        "df['WindDir3pm']=df['WindDir3pm'].astype(str)\n",
        "df['WindGustDir']=df['WindGustDir'].astype(str)"
      ],
      "execution_count": null,
      "outputs": []
    },
    {
      "cell_type": "code",
      "metadata": {
        "colab": {
          "base_uri": "https://localhost:8080/"
        },
        "id": "Wb7xUb7M_V1G",
        "outputId": "e423421a-7ff3-497b-8dab-7f47c94bbdf9"
      },
      "source": [
        "print(df.isna().sum().sum())\n",
        "df2=df.fillna(0)\n",
        "print(df2.isna().sum().sum())\n",
        "df2=df2.drop(axis=1,columns=['Date'])"
      ],
      "execution_count": null,
      "outputs": [
        {
          "output_type": "stream",
          "name": "stdout",
          "text": [
            "215769\n",
            "0\n"
          ]
        }
      ]
    },
    {
      "cell_type": "code",
      "metadata": {
        "id": "7JJ5G2wRKko3"
      },
      "source": [
        "from sklearn.preprocessing import LabelEncoder\n",
        "# define label encoding\n",
        "encoder = LabelEncoder()\n",
        "#df2=pd.get_dummies(df2, columns=[\"url\"])\n",
        "df2['Location'] = encoder.fit_transform(df2['Location'].values)\n",
        "df2['WindGustDir'] = encoder.fit_transform(df2['WindGustDir'].values)\n",
        "df2['WindDir9am'] = encoder.fit_transform(df2['WindDir9am'].values)\n",
        "df2['WindDir3pm'] = encoder.fit_transform(df2['WindDir3pm'].values)\n",
        "df2['RainTomorrow'] = encoder.fit_transform(df2['RainTomorrow'].values)\n",
        "df2['RainToday'] = encoder.fit_transform(df2['RainToday'].values)\n",
        "#droping rows for unseen data\n",
        "x_unseen=df2.iloc[6396:6397,:-1]\n",
        "df2=df2.drop(axis=0,index=[6396])\n",
        "df2=df2.sample(n=100)\n",
        "X= df2.iloc[:,:-1].values #features\n",
        "y = df2.iloc[:,-1].values #labels"
      ],
      "execution_count": null,
      "outputs": []
    },
    {
      "cell_type": "code",
      "metadata": {
        "colab": {
          "base_uri": "https://localhost:8080/",
          "height": 131
        },
        "id": "lwj3gyx0qZnI",
        "outputId": "ed096eb3-ee2f-45fe-b3ca-dc3585377c96"
      },
      "source": [
        "df2.iloc[6396:6398,:]"
      ],
      "execution_count": null,
      "outputs": [
        {
          "output_type": "execute_result",
          "data": {
            "text/html": [
              "<div>\n",
              "<style scoped>\n",
              "    .dataframe tbody tr th:only-of-type {\n",
              "        vertical-align: middle;\n",
              "    }\n",
              "\n",
              "    .dataframe tbody tr th {\n",
              "        vertical-align: top;\n",
              "    }\n",
              "\n",
              "    .dataframe thead th {\n",
              "        text-align: right;\n",
              "    }\n",
              "</style>\n",
              "<table border=\"1\" class=\"dataframe\">\n",
              "  <thead>\n",
              "    <tr style=\"text-align: right;\">\n",
              "      <th></th>\n",
              "      <th>Location</th>\n",
              "      <th>MinTemp</th>\n",
              "      <th>MaxTemp</th>\n",
              "      <th>Rainfall</th>\n",
              "      <th>Evaporation</th>\n",
              "      <th>Sunshine</th>\n",
              "      <th>WindGustDir</th>\n",
              "      <th>WindGustSpeed</th>\n",
              "      <th>WindDir9am</th>\n",
              "      <th>WindDir3pm</th>\n",
              "      <th>WindSpeed9am</th>\n",
              "      <th>WindSpeed3pm</th>\n",
              "      <th>Humidity9am</th>\n",
              "      <th>Humidity3pm</th>\n",
              "      <th>Pressure9am</th>\n",
              "      <th>Pressure3pm</th>\n",
              "      <th>Cloud9am</th>\n",
              "      <th>Cloud3pm</th>\n",
              "      <th>Temp9am</th>\n",
              "      <th>Temp3pm</th>\n",
              "      <th>RainToday</th>\n",
              "      <th>RainTomorrow</th>\n",
              "    </tr>\n",
              "  </thead>\n",
              "  <tbody>\n",
              "    <tr>\n",
              "      <th>26804</th>\n",
              "      <td>21</td>\n",
              "      <td>8.5</td>\n",
              "      <td>16.9</td>\n",
              "      <td>0.0</td>\n",
              "      <td>0.0</td>\n",
              "      <td>0.0</td>\n",
              "      <td>11</td>\n",
              "      <td>39.0</td>\n",
              "      <td>12</td>\n",
              "      <td>12</td>\n",
              "      <td>17.0</td>\n",
              "      <td>11.0</td>\n",
              "      <td>50.0</td>\n",
              "      <td>43.0</td>\n",
              "      <td>0.0</td>\n",
              "      <td>0.0</td>\n",
              "      <td>0.0</td>\n",
              "      <td>0.0</td>\n",
              "      <td>12.3</td>\n",
              "      <td>16.3</td>\n",
              "      <td>0</td>\n",
              "      <td>0</td>\n",
              "    </tr>\n",
              "    <tr>\n",
              "      <th>8932</th>\n",
              "      <td>8</td>\n",
              "      <td>11.8</td>\n",
              "      <td>26.9</td>\n",
              "      <td>0.0</td>\n",
              "      <td>0.0</td>\n",
              "      <td>0.0</td>\n",
              "      <td>12</td>\n",
              "      <td>37.0</td>\n",
              "      <td>8</td>\n",
              "      <td>13</td>\n",
              "      <td>15.0</td>\n",
              "      <td>20.0</td>\n",
              "      <td>47.0</td>\n",
              "      <td>20.0</td>\n",
              "      <td>1014.5</td>\n",
              "      <td>1012.7</td>\n",
              "      <td>0.0</td>\n",
              "      <td>0.0</td>\n",
              "      <td>16.7</td>\n",
              "      <td>25.4</td>\n",
              "      <td>0</td>\n",
              "      <td>0</td>\n",
              "    </tr>\n",
              "  </tbody>\n",
              "</table>\n",
              "</div>"
            ],
            "text/plain": [
              "       Location  MinTemp  MaxTemp  ...  Temp3pm  RainToday  RainTomorrow\n",
              "26804        21      8.5     16.9  ...     16.3          0             0\n",
              "8932          8     11.8     26.9  ...     25.4          0             0\n",
              "\n",
              "[2 rows x 22 columns]"
            ]
          },
          "metadata": {},
          "execution_count": 22
        }
      ]
    },
    {
      "cell_type": "code",
      "metadata": {
        "id": "6372n3_N6hT-"
      },
      "source": [
        "#hold out method\n",
        "from sklearn.model_selection import train_test_split\n",
        "x_train, x_test, y_train, y_test = train_test_split(X, y, test_size=0.20)"
      ],
      "execution_count": null,
      "outputs": []
    },
    {
      "cell_type": "markdown",
      "metadata": {
        "id": "4uw5z_tDBfaq"
      },
      "source": [
        "# **Naive Bayes CLassification**"
      ]
    },
    {
      "cell_type": "code",
      "metadata": {
        "colab": {
          "base_uri": "https://localhost:8080/"
        },
        "id": "7VyjRLmfBvX-",
        "outputId": "93290c97-7ac9-434d-d74b-60e4254ae4f4"
      },
      "source": [
        "from sklearn.naive_bayes import GaussianNB\n",
        "from sklearn.model_selection import LeaveOneOut\n",
        "from sklearn.preprocessing import StandardScaler\n",
        "loo = LeaveOneOut()\n",
        "loo.get_n_splits(X)\n",
        "print(loo)\n",
        "y_true, y_pred_NB,x_true = list(), list(),list()\n",
        "for train_index, test_index in loo.split(X):\n",
        "  x_train, x_test = X[train_index], X[test_index]\n",
        "  y_train, y_test = y[train_index], y[test_index]\n",
        "  scaler = StandardScaler()\n",
        "  scaler.fit(x_train)\n",
        "  x_train = scaler.transform(x_train)\n",
        "  x_test = scaler.transform(x_test)\n",
        "  model_NB= GaussianNB(priors=[0.5,0.5]) #prior probabilities of each class(clases/trget=0 or 1)\n",
        "  model_NB.fit(x_train,y_train)\n",
        "  yhat = model_NB.predict(x_test)\n",
        "\t# store\n",
        "  x_true.append(x_test[0])\n",
        "  y_true.append(y_test[0])\n",
        "  y_pred_NB.append(yhat[0])\n",
        "acc = accuracy_score(y_true, y_pred_NB)\n",
        "print('Accuracy: %.3f' % acc)\n"
      ],
      "execution_count": null,
      "outputs": [
        {
          "output_type": "stream",
          "name": "stdout",
          "text": [
            "LeaveOneOut()\n",
            "Accuracy: 0.790\n"
          ]
        }
      ]
    },
    {
      "cell_type": "markdown",
      "metadata": {
        "id": "lPKKeRdO9AEp"
      },
      "source": [
        "**Performance of Naive Bayes**"
      ]
    },
    {
      "cell_type": "code",
      "metadata": {
        "colab": {
          "base_uri": "https://localhost:8080/",
          "height": 537
        },
        "id": "LodQTCXQoxLw",
        "outputId": "799c896c-484e-4801-faf0-96bd491813b0"
      },
      "source": [
        "from sklearn.metrics import classification_report, confusion_matrix\n",
        "from sklearn import metrics\n",
        "from sklearn.metrics import accuracy_score\n",
        "print(\"The accuracy is  \"+str(accuracy_score(y_true,y_pred_NB)*100)+\"%\")\n",
        "print(confusion_matrix(y_true, y_pred_NB))\n",
        "target_names = ['class 0', 'class 1']\n",
        "print(classification_report(y_true, y_pred_NB,target_names=target_names))\n",
        "fpr, tpr, thresholds = metrics.roc_curve(y_true, y_pred_NB,pos_label=2)\n",
        "metrics.plot_roc_curve(model_NB, x_true, y_true)\n",
        "plt.show()"
      ],
      "execution_count": null,
      "outputs": [
        {
          "output_type": "stream",
          "name": "stdout",
          "text": [
            "The accuracy is  79.0%\n",
            "[[67 11]\n",
            " [10 12]]\n",
            "              precision    recall  f1-score   support\n",
            "\n",
            "     class 0       0.87      0.86      0.86        78\n",
            "     class 1       0.52      0.55      0.53        22\n",
            "\n",
            "    accuracy                           0.79       100\n",
            "   macro avg       0.70      0.70      0.70       100\n",
            "weighted avg       0.79      0.79      0.79       100\n",
            "\n"
          ]
        },
        {
          "output_type": "stream",
          "name": "stderr",
          "text": [
            "/usr/local/lib/python3.7/dist-packages/sklearn/metrics/_ranking.py:808: UndefinedMetricWarning: No positive samples in y_true, true positive value should be meaningless\n",
            "  UndefinedMetricWarning)\n"
          ]
        },
        {
          "output_type": "display_data",
          "data": {
            "image/png": "[encoded data removed]",
            "text/plain": [
              "<Figure size 432x288 with 1 Axes>"
            ]
          },
          "metadata": {
            "needs_background": "light"
          }
        }
      ]
    },
    {
      "cell_type": "markdown",
      "metadata": {
        "id": "XVLIqTuGnaow"
      },
      "source": [
        "**Prediction on unseen Data**"
      ]
    },
    {
      "cell_type": "code",
      "metadata": {
        "colab": {
          "base_uri": "https://localhost:8080/"
        },
        "id": "_rjkTe2h-M1R",
        "outputId": "95ee4b63-3e8a-4624-e6f0-bad7d8d00f95"
      },
      "source": [
        "#prediction on Unseen data\n",
        "#x_new=x_new.reshape(-1,1)\n",
        "y_new = model_NB.predict(x_unseen)\n",
        "print(y_new)"
      ],
      "execution_count": null,
      "outputs": [
        {
          "output_type": "stream",
          "name": "stdout",
          "text": [
            "[0]\n"
          ]
        }
      ]
    },
    {
      "cell_type": "markdown",
      "metadata": {
        "id": "hvvvbhJfBlD9"
      },
      "source": [
        "# **Logistic Regression**"
      ]
    },
    {
      "cell_type": "code",
      "metadata": {
        "colab": {
          "base_uri": "https://localhost:8080/"
        },
        "id": "QLcc2Vv9BxkA",
        "outputId": "244d9d4c-8a95-488f-9740-47380507da35"
      },
      "source": [
        "from sklearn.linear_model import LogisticRegression\n",
        "from sklearn.model_selection import LeaveOneOut\n",
        "loo = LeaveOneOut()\n",
        "loo.get_n_splits(X)\n",
        "print(loo)\n",
        "y_true, y_pred_LR,x_true = list(), list(),list()\n",
        "for train_index, test_index in loo.split(X):\n",
        "  x_train, x_test = X[train_index], X[test_index]\n",
        "  y_train, y_test = y[train_index], y[test_index]\n",
        "  model_LogR= LogisticRegression(solver='liblinear', random_state=0)\n",
        "  model_LogR.fit(x_train, y_train)\n",
        "  yhat = model_NB.predict(x_test)\n",
        "\t# store\n",
        "  x_true.append(x_test[0])\n",
        "  y_true.append(y_test[0])\n",
        "  y_pred_LR.append(yhat[0])\n",
        "acc = accuracy_score(y_true, y_pred_LR)\n",
        "print('Accuracy: %.3f' % acc)"
      ],
      "execution_count": null,
      "outputs": [
        {
          "output_type": "stream",
          "name": "stdout",
          "text": [
            "LeaveOneOut()\n",
            "Accuracy: 0.830\n"
          ]
        }
      ]
    },
    {
      "cell_type": "markdown",
      "metadata": {
        "id": "qDn-gRPnn_7q"
      },
      "source": [
        "**performance of Logistic Regression**"
      ]
    },
    {
      "cell_type": "code",
      "metadata": {
        "colab": {
          "base_uri": "https://localhost:8080/",
          "height": 537
        },
        "id": "6SCZ7qH4CECq",
        "outputId": "42786f32-cab0-4971-b84c-497163f2f5c8"
      },
      "source": [
        "from sklearn.metrics import classification_report, confusion_matrix\n",
        "from sklearn import metrics\n",
        "from sklearn.metrics import accuracy_score\n",
        "print(\"The accuracy is  \"+str(accuracy_score(y_true,y_pred_LR)*100)+\"%\")\n",
        "print(confusion_matrix(y_true, y_pred_LR))\n",
        "target_names = ['class 0', 'class 1']\n",
        "print(classification_report(y_true, y_pred_LR,target_names=target_names))\n",
        "fpr, tpr, thresholds = metrics.roc_curve(y_true, y_pred_LR,pos_label=2)\n",
        "metrics.plot_roc_curve(model_LogR, x_true, y_true)\n",
        "plt.show() "
      ],
      "execution_count": null,
      "outputs": [
        {
          "output_type": "stream",
          "name": "stdout",
          "text": [
            "The accuracy is  83.0%\n",
            "[[69  9]\n",
            " [ 8 14]]\n",
            "              precision    recall  f1-score   support\n",
            "\n",
            "     class 0       0.90      0.88      0.89        78\n",
            "     class 1       0.61      0.64      0.62        22\n",
            "\n",
            "    accuracy                           0.83       100\n",
            "   macro avg       0.75      0.76      0.76       100\n",
            "weighted avg       0.83      0.83      0.83       100\n",
            "\n"
          ]
        },
        {
          "output_type": "stream",
          "name": "stderr",
          "text": [
            "/usr/local/lib/python3.7/dist-packages/sklearn/metrics/_ranking.py:808: UndefinedMetricWarning: No positive samples in y_true, true positive value should be meaningless\n",
            "  UndefinedMetricWarning)\n"
          ]
        },
        {
          "output_type": "display_data",
          "data": {
            "image/png": "[encoded data removed]",
            "text/plain": [
              "<Figure size 432x288 with 1 Axes>"
            ]
          },
          "metadata": {
            "needs_background": "light"
          }
        }
      ]
    },
    {
      "cell_type": "markdown",
      "metadata": {
        "id": "-9tfVWoqmz9P"
      },
      "source": [
        "**prediction on unseen data**"
      ]
    },
    {
      "cell_type": "code",
      "metadata": {
        "colab": {
          "base_uri": "https://localhost:8080/"
        },
        "id": "-1_whCuqC5EV",
        "outputId": "324ffd57-a8df-4222-fb8e-f415c6e30dcd"
      },
      "source": [
        "#prediction on unseen data\n",
        "#x_new=x_new.reshape(-1,1)\n",
        "y_new = model2.predict(x_unseen)\n",
        "print(y_new)"
      ],
      "execution_count": null,
      "outputs": [
        {
          "name": "stdout",
          "output_type": "stream",
          "text": [
            "[0]\n"
          ]
        }
      ]
    },
    {
      "cell_type": "markdown",
      "metadata": {
        "id": "xtzH4FFfDgKW"
      },
      "source": [
        "# **KNN CLassifier**"
      ]
    },
    {
      "cell_type": "code",
      "metadata": {
        "colab": {
          "base_uri": "https://localhost:8080/"
        },
        "id": "rw0OD8VtDm0r",
        "outputId": "9aba78c8-1ee6-47e7-b601-882110ee985e"
      },
      "source": [
        "from sklearn.neighbors import KNeighborsClassifier\n",
        "from sklearn.model_selection import LeaveOneOut\n",
        "loo = LeaveOneOut()\n",
        "loo.get_n_splits(X)\n",
        "print(loo)\n",
        "y_true, y_pred_knn,x_true = list(), list(),list()\n",
        "for train_index, test_index in loo.split(X):\n",
        "  #print(\"TRAIN:\", train_index, \"TEST:\", test_index)\n",
        "  x_train, x_test = X[train_index], X[test_index]\n",
        "  y_train, y_test = y[train_index], y[test_index]\n",
        "  model_knn = KNeighborsClassifier(n_neighbors=6)  #it calculates the distace of row to be predicted from every other row. then sort and discard classes having distace more than 6\n",
        "  model_knn.fit(x_train, y_train)\n",
        "  yhat = model_knn.predict(x_test)\n",
        "\t# store\n",
        "  x_true.append(x_test[0])\n",
        "  y_true.append(y_test[0])\n",
        "  y_pred_knn.append(yhat[0])\n",
        "acc = accuracy_score(y_true, y_pred_knn)\n",
        "print('Accuracy: %.3f' % acc)"
      ],
      "execution_count": null,
      "outputs": [
        {
          "output_type": "stream",
          "name": "stdout",
          "text": [
            "LeaveOneOut()\n",
            "Accuracy: 0.800\n"
          ]
        }
      ]
    },
    {
      "cell_type": "markdown",
      "metadata": {
        "id": "UDofXtQMpbzi"
      },
      "source": [
        "**Performance of KNN**"
      ]
    },
    {
      "cell_type": "code",
      "metadata": {
        "colab": {
          "base_uri": "https://localhost:8080/",
          "height": 537
        },
        "id": "z4Z61mA2D_d5",
        "outputId": "4d49ddb4-7062-465c-d833-d9269ba3a91d"
      },
      "source": [
        "#performance\n",
        "from sklearn.metrics import classification_report, confusion_matrix\n",
        "from sklearn import metrics\n",
        "from sklearn.metrics import accuracy_score\n",
        "print(\"The accuracy is  \"+str(accuracy_score(y_true,y_pred_knn)*100)+\"%\")\n",
        "print(confusion_matrix(y_true, y_pred_LR))\n",
        "target_names = ['class 0', 'class 1']\n",
        "print(classification_report(y_true, y_pred_knn,target_names=target_names))\n",
        "fpr, tpr, thresholds = metrics.roc_curve(y_true, y_pred_knn,pos_label=2)\n",
        "metrics.plot_roc_curve(model_knn, x_true, y_true)\n",
        "plt.show() "
      ],
      "execution_count": null,
      "outputs": [
        {
          "output_type": "stream",
          "name": "stdout",
          "text": [
            "The accuracy is  80.0%\n",
            "[[69  9]\n",
            " [ 8 14]]\n",
            "              precision    recall  f1-score   support\n",
            "\n",
            "     class 0       0.80      0.99      0.89        78\n",
            "     class 1       0.75      0.14      0.23        22\n",
            "\n",
            "    accuracy                           0.80       100\n",
            "   macro avg       0.78      0.56      0.56       100\n",
            "weighted avg       0.79      0.80      0.74       100\n",
            "\n"
          ]
        },
        {
          "output_type": "stream",
          "name": "stderr",
          "text": [
            "/usr/local/lib/python3.7/dist-packages/sklearn/metrics/_ranking.py:808: UndefinedMetricWarning: No positive samples in y_true, true positive value should be meaningless\n",
            "  UndefinedMetricWarning)\n"
          ]
        },
        {
          "output_type": "display_data",
          "data": {
            "image/png": "[encoded data removed]",
            "text/plain": [
              "<Figure size 432x288 with 1 Axes>"
            ]
          },
          "metadata": {
            "needs_background": "light"
          }
        }
      ]
    },
    {
      "cell_type": "markdown",
      "metadata": {
        "id": "r5Q_FBoVp-q5"
      },
      "source": [
        "Prediction on unseen data"
      ]
    },
    {
      "cell_type": "code",
      "metadata": {
        "colab": {
          "base_uri": "https://localhost:8080/"
        },
        "id": "Hmokdv0CEGPT",
        "outputId": "fce7316a-c406-4313-9916-a624f1cdf557"
      },
      "source": [
        "#prediction on unseen data\n",
        "#x_new=x_new.reshape(-1,1)\n",
        "y_new = classifier.predict(x_unseen)\n",
        "print(y_new)"
      ],
      "execution_count": null,
      "outputs": [
        {
          "name": "stdout",
          "output_type": "stream",
          "text": [
            "[0]\n"
          ]
        }
      ]
    },
    {
      "cell_type": "markdown",
      "metadata": {
        "id": "mtlaWe46-7v-"
      },
      "source": [
        "Stacking involves combining the predictions from multiple machine learning models on the same dataset, like bagging and boosting.\n",
        "\n",
        "Stacking addresses the question:\n",
        "\n",
        "Given multiple machine learning models that are skillful on a problem, but in different ways, how do you choose which model to use (trust)?\n",
        "The approach to this question is to use another machine learning model that learns when to use or trust each model in the ensemble.\n",
        "\n",
        "Unlike bagging, in stacking, the models are typically different (e.g. not all decision trees) and fit on the same dataset (e.g. instead of samples of the training dataset).\n",
        " Unlike boosting, in stacking, a single model is used to learn how to best combine the predictions from the contributing models (e.g. instead of a sequence of models that correct the predictions of prior models)."
      ]
    },
    {
      "cell_type": "code",
      "metadata": {
        "colab": {
          "base_uri": "https://localhost:8080/"
        },
        "id": "sDi83B-v_3F-",
        "outputId": "7aedd1fa-608c-418e-de48-72a7aecbee53"
      },
      "source": [
        "#ensemble Learning\n",
        "from sklearn.ensemble import StackingClassifier\n",
        "from sklearn.model_selection import cross_val_score\n",
        "from sklearn.preprocessing import StandardScaler\n",
        "from sklearn.model_selection import LeaveOneOut\n",
        "loo = LeaveOneOut()\n",
        "loo.get_n_splits(X)\n",
        "print(loo)\n",
        "y_true, y_pred_esm,x_true = list(), list(),list()\n",
        "for train_index, test_index in loo.split(X):\n",
        "  x_train, x_test = X[train_index], X[test_index]\n",
        "  y_train, y_test = y[train_index], y[test_index]\n",
        "  scaler = StandardScaler()\n",
        "  scaler.fit(x_train)\n",
        "  x_train = scaler.transform(x_train)\n",
        "  x_test = scaler.transform(x_test)\n",
        "  models = [('model_LogR',LogisticRegression()),('model_NB',GaussianNB()),('model_knn',KNeighborsClassifier())]\n",
        "  clf= StackingClassifier(estimators=models,cv=None,final_estimator=LogisticRegression(max_iter=600,solver='lbfgs'))\n",
        "  clf.fit(x_train, y_train)\n",
        "  yhat = model_NB.predict(x_test)\n",
        "  x_true.append(x_test[0])\n",
        "  y_true.append(y_test[0])\n",
        "  y_pred_esm.append(yhat[0])\n",
        "acc = accuracy_score(y_true, y_pred_esm)\n",
        "print('Accuracy: %.3f' % acc)"
      ],
      "execution_count": null,
      "outputs": [
        {
          "output_type": "stream",
          "name": "stdout",
          "text": [
            "LeaveOneOut()\n",
            "Accuracy: 0.830\n"
          ]
        }
      ]
    }
  ]
}