{
  "nbformat": 4,
  "nbformat_minor": 0,
  "metadata": {
    "colab": {
      "name": "color identification clustering.ipynb",
      "provenance": []
    },
    "kernelspec": {
      "name": "python3",
      "display_name": "Python 3"
    },
    "language_info": {
      "name": "python"
    }
  },
  "cells": [
    {
      "cell_type": "code",
      "metadata": {
        "id": "QUGE-No0pxrS"
      },
      "source": [
        "from sklearn.cluster import KMeans\n",
        "import matplotlib.pyplot as plt\n",
        "import numpy as np\n",
        "import cv2\n",
        "from collections import Counter\n",
        "from skimage.color import rgb2lab, deltaE_cie76\n",
        "import os\n"
      ],
      "execution_count": null,
      "outputs": []
    },
    {
      "cell_type": "code",
      "metadata": {
        "id": "dGXtRnFoqKJ0"
      },
      "source": [
        "image = cv2.imread(r'color.jpg')\n",
        "print(\"The type of this input is {}\".format(type(image)))\n",
        "print(\"Shape: {}\".format(image.shape))\n",
        "plt.imshow(image)"
      ],
      "execution_count": null,
      "outputs": []
    },
    {
      "cell_type": "code",
      "metadata": {
        "id": "OqN6syH4qN61"
      },
      "source": [
        "image = cv2.cvtColor(image, cv2.COLOR_BGR2RGB)\n",
        "plt.imshow(image)"
      ],
      "execution_count": null,
      "outputs": []
    },
    {
      "cell_type": "code",
      "metadata": {
        "id": "vy6AwK3NqPqQ"
      },
      "source": [
        "gray_image = cv2.cvtColor(image, cv2.COLOR_BGR2GRAY)\n",
        "plt.imshow(gray_image, cmap='gray')"
      ],
      "execution_count": null,
      "outputs": []
    },
    {
      "cell_type": "code",
      "metadata": {
        "id": "Sm3tLVJIqUvR"
      },
      "source": [
        "resized_image = cv2.resize(image, (1200, 600))\n",
        "plt.imshow(resized_image)"
      ],
      "execution_count": null,
      "outputs": []
    },
    {
      "cell_type": "code",
      "metadata": {
        "id": "F-uZYgVlqakQ"
      },
      "source": [
        "def RGB2HEX(color):\n",
        "    return \"#{:02x}{:02x}{:02x}\".format(int(color[0]), int(color[1]), int(color[2]))"
      ],
      "execution_count": null,
      "outputs": []
    },
    {
      "cell_type": "code",
      "metadata": {
        "id": "KrT5blFTqcB9"
      },
      "source": [
        "def get_image(image_path):\n",
        "    image = cv2.imread(image_path)\n",
        "    image = cv2.cvtColor(image, cv2.COLOR_BGR2RGB)\n",
        "    return image"
      ],
      "execution_count": null,
      "outputs": []
    },
    {
      "cell_type": "markdown",
      "metadata": {
        "id": "d7skoPCPqk4p"
      },
      "source": [
        " **Get colors from an Image**"
      ]
    },
    {
      "cell_type": "code",
      "metadata": {
        "id": "u5wZJ0pWqyFn"
      },
      "source": [
        "def get_colors(image, number_of_colors, show_chart):\n",
        "    \n",
        "    modified_image = cv2.resize(image, (600, 400), interpolation = cv2.INTER_AREA)\n",
        "    modified_image = modified_image.reshape(modified_image.shape[0]*modified_image.shape[1], 3)\n",
        "    \n",
        "    clf = KMeans(n_clusters = number_of_colors)\n",
        "    labels = clf.fit_predict(modified_image)\n",
        "    \n",
        "    counts = Counter(labels)\n",
        "    # sort to ensure correct color percentage\n",
        "    counts = dict(sorted(counts.items()))\n",
        "    \n",
        "    center_colors = clf.cluster_centers_\n",
        "    # We get ordered colors by iterating through the keys\n",
        "    ordered_colors = [center_colors[i] for i in counts.keys()]\n",
        "    hex_colors = [RGB2HEX(ordered_colors[i]) for i in counts.keys()]\n",
        "    rgb_colors = [ordered_colors[i] for i in counts.keys()]\n",
        "\n",
        "    if (show_chart):\n",
        "        plt.figure(figsize = (8, 6))\n",
        "        plt.pie(counts.values(), labels = hex_colors, colors = hex_colors)\n",
        "    \n",
        "    return rgb_colors"
      ],
      "execution_count": null,
      "outputs": []
    },
    {
      "cell_type": "code",
      "metadata": {
        "id": "GR2QVtwjq3NV"
      },
      "source": [
        "get_colors(get_image(r'color.jpg'), 8, True)"
      ],
      "execution_count": null,
      "outputs": []
    },
    {
      "cell_type": "code",
      "metadata": {
        "id": "6sEHI2Cgq9BR"
      },
      "source": [
        "IMAGE_DIRECTORY = r'Images'\n",
        "COLORS = {\n",
        "    'GREEN': [0, 128, 0],\n",
        "    'BLUE': [0, 0, 128],\n",
        "    'YELLOW': [255, 255, 0]\n",
        "}\n",
        "images = []\n",
        "\n",
        "for file in os.listdir(IMAGE_DIRECTORY):\n",
        "    if not file.startswith('.'):\n",
        "        images.append(get_image(os.path.join(IMAGE_DIRECTORY, file)))"
      ],
      "execution_count": null,
      "outputs": []
    },
    {
      "cell_type": "code",
      "metadata": {
        "id": "AXj32uS6rCKf"
      },
      "source": [
        "\n",
        "plt.figure(figsize=(20, 10))\n",
        "for i in range(len(images)):\n",
        "    plt.subplot(1, len(images), i+1)\n",
        "    plt.imshow(images[i])"
      ],
      "execution_count": null,
      "outputs": []
    },
    {
      "cell_type": "code",
      "metadata": {
        "id": "9K3bGEmKrFNz"
      },
      "source": [
        "def match_image_by_color(image, color, threshold = 60, number_of_colors = 10): \n",
        "    \n",
        "    image_colors = get_colors(image, number_of_colors, False)\n",
        "    selected_color = rgb2lab(np.uint8(np.asarray([[color]])))\n",
        "\n",
        "    select_image = False\n",
        "    for i in range(number_of_colors):\n",
        "        curr_color = rgb2lab(np.uint8(np.asarray([[image_colors[i]]])))\n",
        "        diff = deltaE_cie76(selected_color, curr_color)\n",
        "        if (diff < threshold):\n",
        "            select_image = True\n",
        "    \n",
        "    return select_image"
      ],
      "execution_count": null,
      "outputs": []
    },
    {
      "cell_type": "code",
      "metadata": {
        "id": "yzdDojT-rSl6"
      },
      "source": [
        "def show_selected_images(images, color, threshold, colors_to_match):\n",
        "    index = 1\n",
        "    \n",
        "    for i in range(len(images)):\n",
        "        selected = match_image_by_color(images[i],\n",
        "                                        color,\n",
        "                                        threshold,\n",
        "                                        colors_to_match)\n",
        "        if (selected):\n",
        "            plt.subplot(1, 5, index)\n",
        "            plt.imshow(images[i])\n",
        "            index += 1"
      ],
      "execution_count": null,
      "outputs": []
    },
    {
      "cell_type": "code",
      "metadata": {
        "id": "C-dN4iVprXR3"
      },
      "source": [
        "# Search for GREEN\n",
        "plt.figure(figsize = (20, 10))\n",
        "show_selected_images(images, COLORS['GREEN'], 60, 5)"
      ],
      "execution_count": null,
      "outputs": []
    },
    {
      "cell_type": "code",
      "metadata": {
        "id": "bGwLc5oarfgQ"
      },
      "source": [
        "# Search for BLUE\n",
        "plt.figure(figsize = (20, 10))\n",
        "show_selected_images(images, COLORS['BLUE'], 60, 5)"
      ],
      "execution_count": null,
      "outputs": []
    }
  ]
}