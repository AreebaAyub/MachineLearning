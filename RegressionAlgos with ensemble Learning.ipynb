{
  "nbformat": 4,
  "nbformat_minor": 0,
  "metadata": {
    "colab": {
      "name": "Regression Algos.ipynb",
      "provenance": [],
      "collapsed_sections": []
    },
    "kernelspec": {
      "name": "python3",
      "display_name": "Python 3"
    },
    "language_info": {
      "name": "python"
    }
  },
  "cells": [
    {
      "cell_type": "code",
      "metadata": {
        "id": "AAf_ZqHMkq3w"
      },
      "source": [
        "import pandas as pd\n",
        "import numpy as np\n",
        "import matplotlib.pyplot as plt \n",
        "from sklearn import preprocessing\n",
        "from sklearn.linear_model import LinearRegression\n",
        "from sklearn.model_selection import train_test_split\n",
        "import seaborn as sns\n",
        "from sklearn.metrics import confusion_matrix, classification_report\n",
        "dataset=\"rideshare_kaggle.csv\"\n",
        "dataset = pd.read_csv(dataset,error_bad_lines=False,engine='python')\n",
        "df2=pd.DataFrame(dataset)"
      ],
      "execution_count": null,
      "outputs": []
    },
    {
      "cell_type": "markdown",
      "metadata": {
        "id": "_DR_l36jX6k8"
      },
      "source": [
        ""
      ]
    },
    {
      "cell_type": "markdown",
      "metadata": {
        "id": "yWpBvwpEX6m1"
      },
      "source": [
        ""
      ]
    },
    {
      "cell_type": "code",
      "metadata": {
        "colab": {
          "base_uri": "https://localhost:8080/",
          "height": 134
        },
        "id": "TxO08qhZs-Kl",
        "outputId": "8dc887b8-8283-4aec-ba32-b7bbf14d03eb"
      },
      "source": [
        "df.head(n=1)"
      ],
      "execution_count": null,
      "outputs": [
        {
          "output_type": "execute_result",
          "data": {
            "text/html": [
              "<div>\n",
              "<style scoped>\n",
              "    .dataframe tbody tr th:only-of-type {\n",
              "        vertical-align: middle;\n",
              "    }\n",
              "\n",
              "    .dataframe tbody tr th {\n",
              "        vertical-align: top;\n",
              "    }\n",
              "\n",
              "    .dataframe thead th {\n",
              "        text-align: right;\n",
              "    }\n",
              "</style>\n",
              "<table border=\"1\" class=\"dataframe\">\n",
              "  <thead>\n",
              "    <tr style=\"text-align: right;\">\n",
              "      <th></th>\n",
              "      <th>timestamp</th>\n",
              "      <th>hour</th>\n",
              "      <th>day</th>\n",
              "      <th>month</th>\n",
              "      <th>source</th>\n",
              "      <th>destination</th>\n",
              "      <th>cab_type</th>\n",
              "      <th>name</th>\n",
              "      <th>price</th>\n",
              "      <th>distance</th>\n",
              "      <th>surge_multiplier</th>\n",
              "      <th>latitude</th>\n",
              "      <th>longitude</th>\n",
              "      <th>temperature</th>\n",
              "      <th>apparentTemperature</th>\n",
              "      <th>short_summary</th>\n",
              "      <th>long_summary</th>\n",
              "      <th>precipIntensity</th>\n",
              "      <th>precipProbability</th>\n",
              "      <th>humidity</th>\n",
              "      <th>windSpeed</th>\n",
              "      <th>windGust</th>\n",
              "      <th>windGustTime</th>\n",
              "      <th>visibility</th>\n",
              "      <th>temperatureHigh</th>\n",
              "      <th>temperatureHighTime</th>\n",
              "      <th>temperatureLow</th>\n",
              "      <th>temperatureLowTime</th>\n",
              "      <th>apparentTemperatureHighTime</th>\n",
              "      <th>apparentTemperatureLow</th>\n",
              "      <th>apparentTemperatureLowTime</th>\n",
              "      <th>icon</th>\n",
              "      <th>dewPoint</th>\n",
              "      <th>pressure</th>\n",
              "      <th>windBearing</th>\n",
              "      <th>cloudCover</th>\n",
              "      <th>uvIndex</th>\n",
              "      <th>visibility.1</th>\n",
              "      <th>ozone</th>\n",
              "      <th>sunriseTime</th>\n",
              "      <th>sunsetTime</th>\n",
              "      <th>moonPhase</th>\n",
              "      <th>precipIntensityMax</th>\n",
              "      <th>uvIndexTime</th>\n",
              "      <th>temperatureMin</th>\n",
              "      <th>temperatureMinTime</th>\n",
              "      <th>temperatureMax</th>\n",
              "      <th>temperatureMaxTime</th>\n",
              "      <th>apparentTemperatureMin</th>\n",
              "      <th>apparentTemperatureMinTime</th>\n",
              "      <th>apparentTemperatureMax</th>\n",
              "      <th>apparentTemperatureMaxTime</th>\n",
              "    </tr>\n",
              "  </thead>\n",
              "  <tbody>\n",
              "    <tr>\n",
              "      <th>0</th>\n",
              "      <td>1.544953e+09</td>\n",
              "      <td>9</td>\n",
              "      <td>16</td>\n",
              "      <td>12</td>\n",
              "      <td>Haymarket Square</td>\n",
              "      <td>North Station</td>\n",
              "      <td>Lyft</td>\n",
              "      <td>Shared</td>\n",
              "      <td>5.0</td>\n",
              "      <td>0.44</td>\n",
              "      <td>1.0</td>\n",
              "      <td>42.2148</td>\n",
              "      <td>-71.033</td>\n",
              "      <td>42.34</td>\n",
              "      <td>37.12</td>\n",
              "      <td>Mostly Cloudy</td>\n",
              "      <td>Rain throughout the day.</td>\n",
              "      <td>0.0</td>\n",
              "      <td>0.0</td>\n",
              "      <td>0.68</td>\n",
              "      <td>8.66</td>\n",
              "      <td>9.17</td>\n",
              "      <td>1545015600</td>\n",
              "      <td>10.0</td>\n",
              "      <td>43.68</td>\n",
              "      <td>1544968800</td>\n",
              "      <td>34.19</td>\n",
              "      <td>1545048000</td>\n",
              "      <td>1544968800</td>\n",
              "      <td>27.39</td>\n",
              "      <td>1545044400</td>\n",
              "      <td>partly-cloudy-night</td>\n",
              "      <td>32.7</td>\n",
              "      <td>1021.98</td>\n",
              "      <td>57</td>\n",
              "      <td>0.72</td>\n",
              "      <td>0</td>\n",
              "      <td>10.0</td>\n",
              "      <td>303.8</td>\n",
              "      <td>1544962084</td>\n",
              "      <td>1544994864</td>\n",
              "      <td>0.3</td>\n",
              "      <td>0.1276</td>\n",
              "      <td>1544979600</td>\n",
              "      <td>39.89</td>\n",
              "      <td>1545012000</td>\n",
              "      <td>43.68</td>\n",
              "      <td>1544968800</td>\n",
              "      <td>33.73</td>\n",
              "      <td>1545012000</td>\n",
              "      <td>38.07</td>\n",
              "      <td>1544958000</td>\n",
              "    </tr>\n",
              "  </tbody>\n",
              "</table>\n",
              "</div>"
            ],
            "text/plain": [
              "      timestamp  hour  ...  apparentTemperatureMax  apparentTemperatureMaxTime\n",
              "0  1.544953e+09     9  ...                   38.07                  1544958000\n",
              "\n",
              "[1 rows x 52 columns]"
            ]
          },
          "metadata": {},
          "execution_count": 9
        }
      ]
    },
    {
      "cell_type": "markdown",
      "metadata": {
        "id": "t5oOBSFqyoPY"
      },
      "source": [
        "**PreProcessing**"
      ]
    },
    {
      "cell_type": "code",
      "metadata": {
        "colab": {
          "base_uri": "https://localhost:8080/"
        },
        "id": "v-Pr2zbirLMi",
        "outputId": "aa7a8aa2-67ac-4e2a-ab03-bc6d4b331a18"
      },
      "source": [
        "#df.head(n=1)\n",
        "df=df2.drop(axis=1,columns=['id','datetime','timezone','apparentTemperatureHigh','product_id'])\n",
        "df=df.fillna(0)\n",
        "#rearrangine columns to target prive\n",
        "df = df[['timestamp', 'hour', 'day', 'month', 'source', 'destination', 'cab_type', 'name', 'distance', 'surge_multiplier', 'latitude', 'longitude', 'temperature', 'apparentTemperature', 'short_summary', 'long_summary', 'precipIntensity', 'precipProbability', 'humidity', 'windSpeed', 'windGust', 'windGustTime', 'visibility', 'temperatureHigh', 'temperatureHighTime', 'temperatureLow', 'temperatureLowTime', 'apparentTemperatureHighTime', 'apparentTemperatureLow', 'apparentTemperatureLowTime', 'icon', 'dewPoint', 'pressure', 'windBearing', 'cloudCover', 'uvIndex', 'visibility.1', 'ozone', 'sunriseTime', 'sunsetTime', 'moonPhase', 'precipIntensityMax', 'uvIndexTime', 'temperatureMin', 'temperatureMinTime', 'temperatureMax', 'temperatureMaxTime', 'apparentTemperatureMin', 'apparentTemperatureMinTime', 'apparentTemperatureMax', 'apparentTemperatureMaxTime','price']]\n",
        "cols=list(df.columns.values)\n",
        "print(cols)"
      ],
      "execution_count": null,
      "outputs": [
        {
          "output_type": "stream",
          "name": "stdout",
          "text": [
            "['timestamp', 'hour', 'day', 'month', 'source', 'destination', 'cab_type', 'name', 'distance', 'surge_multiplier', 'latitude', 'longitude', 'temperature', 'apparentTemperature', 'short_summary', 'long_summary', 'precipIntensity', 'precipProbability', 'humidity', 'windSpeed', 'windGust', 'windGustTime', 'visibility', 'temperatureHigh', 'temperatureHighTime', 'temperatureLow', 'temperatureLowTime', 'apparentTemperatureHighTime', 'apparentTemperatureLow', 'apparentTemperatureLowTime', 'icon', 'dewPoint', 'pressure', 'windBearing', 'cloudCover', 'uvIndex', 'visibility.1', 'ozone', 'sunriseTime', 'sunsetTime', 'moonPhase', 'precipIntensityMax', 'uvIndexTime', 'temperatureMin', 'temperatureMinTime', 'temperatureMax', 'temperatureMaxTime', 'apparentTemperatureMin', 'apparentTemperatureMinTime', 'apparentTemperatureMax', 'apparentTemperatureMaxTime', 'price']\n"
          ]
        }
      ]
    },
    {
      "cell_type": "code",
      "metadata": {
        "id": "6mMBrGnWtG_u"
      },
      "source": [
        "#label encoding\n",
        "from sklearn.preprocessing import LabelEncoder\n",
        "encoder = LabelEncoder()\n",
        "df['source'] = encoder.fit_transform(df['source'].values)\n",
        "df['destination'] = encoder.fit_transform(df['destination'].values)\n",
        "df['cab_type'] = encoder.fit_transform(df['cab_type'].values)\n",
        "df['name'] = encoder.fit_transform(df['name'].values)\n",
        "df['short_summary'] = encoder.fit_transform(df['short_summary'].values)\n",
        "df['long_summary'] = encoder.fit_transform(df['long_summary'].values)\n",
        "df['icon']=df['icon'].astype(str)\n",
        "df['icon'] = encoder.fit_transform(df['icon'].values)\n",
        "#droping rows for unseen data\n",
        "x_unseen=df.iloc[6396:6397,:-1]\n",
        "df=df.drop(axis=0,index=[696])\n",
        "df=df.sample(n=100)\n",
        "X= df.iloc[:,:-1].values #features\n",
        "y = df.iloc[:,-1].values #labels"
      ],
      "execution_count": null,
      "outputs": []
    },
    {
      "cell_type": "code",
      "metadata": {
        "id": "VLcIBg1dwGSD"
      },
      "source": [
        "#holdout method\n",
        "from sklearn.model_selection import train_test_split\n",
        "x_train, x_test, y_train, y_test = train_test_split(X, y, test_size=0.20)"
      ],
      "execution_count": null,
      "outputs": []
    },
    {
      "cell_type": "markdown",
      "metadata": {
        "id": "AtRZH_AIy_i3"
      },
      "source": [
        "# **Linear Regression**"
      ]
    },
    {
      "cell_type": "code",
      "metadata": {
        "id": "GWAZmKGqwRo3"
      },
      "source": [
        "from sklearn.model_selection import LeaveOneOut\n",
        "from sklearn.metrics import accuracy_score\n",
        "loo = LeaveOneOut()\n",
        "loo.get_n_splits(X)\n",
        "y_true, y_predL,x_true = list(), list(),list()\n",
        "for train_index, test_index in loo.split(X):\n",
        "  x_train, x_test = X[train_index], X[test_index]\n",
        "  y_train, y_test = y[train_index], y[test_index]\n",
        "  model = LinearRegression()\n",
        "  model = LinearRegression().fit(x_train, y_train)\n",
        "  yhat = model.predict(x_test)\n",
        "  x_true.append(x_test[0])\n",
        "  y_true.append(y_test[0])\n",
        "  y_predL.append(yhat[0])"
      ],
      "execution_count": null,
      "outputs": []
    },
    {
      "cell_type": "code",
      "metadata": {
        "colab": {
          "base_uri": "https://localhost:8080/"
        },
        "id": "ZJ1hoYAWwcrM",
        "outputId": "4510febb-cab9-433f-98ab-75d117a56b15"
      },
      "source": [
        "#prediction on unseen\n",
        "y_gen = model.predict(x_unseen)\n",
        "print(y_gen)"
      ],
      "execution_count": null,
      "outputs": [
        {
          "output_type": "stream",
          "name": "stdout",
          "text": [
            "[7.68850141]\n"
          ]
        }
      ]
    },
    {
      "cell_type": "markdown",
      "metadata": {
        "id": "2-X3ljtWSKYo"
      },
      "source": [
        "Performance of Linear regression"
      ]
    },
    {
      "cell_type": "code",
      "metadata": {
        "colab": {
          "base_uri": "https://localhost:8080/"
        },
        "id": "n8eSvHUfwqs3",
        "outputId": "3168d68e-efc5-4636-9d4f-e74300a47266"
      },
      "source": [
        "#performance r2 and mean absolute error\n",
        "import sklearn.metrics as metrics\n",
        "from sklearn.metrics import mean_squared_error, r2_score\n",
        "from sklearn.metrics import mean_absolute_error\n",
        "#print(\"model.coef_:{}\".format(model.coef_))\n",
        "#print(\"model.intercept_:{}\".format(model.intercept_))\n",
        "print(\"training score {:.2f}\",format(model.score(x_train, y_train)))\n",
        "print(\"testinging score {:.2f}\",format(model.score(x_true, y_true)))\n",
        "print(mean_absolute_error(y_true, y_predL))"
      ],
      "execution_count": null,
      "outputs": [
        {
          "output_type": "stream",
          "name": "stdout",
          "text": [
            "training score {:.2f} 0.7419450017726168\n",
            "testinging score {:.2f} 0.7375270018991805\n",
            "7.574424972092384\n"
          ]
        }
      ]
    },
    {
      "cell_type": "markdown",
      "metadata": {
        "id": "lqcvchA9zKoy"
      },
      "source": [
        "# **KNN Regression**"
      ]
    },
    {
      "cell_type": "code",
      "metadata": {
        "colab": {
          "base_uri": "https://localhost:8080/"
        },
        "id": "8h4UuyLuzZoT",
        "outputId": "a8123505-23c6-45a0-8f4f-741b2bb94ac9"
      },
      "source": [
        "from sklearn.model_selection import GridSearchCV\n",
        "import sklearn.neighbors as neighbors\n",
        "from sklearn.model_selection import LeaveOneOut\n",
        "from sklearn.metrics import accuracy_score\n",
        "loo = LeaveOneOut()\n",
        "loo.get_n_splits(X)\n",
        "print(loo)\n",
        "y_trueK, y_pred_knn,x_trueK = list(), list(),list()\n",
        "for train_index, test_index in loo.split(X):\n",
        "  x_train, x_test = X[train_index], X[test_index]\n",
        "  y_train, y_test = y[train_index], y[test_index]\n",
        "  params = {'n_neighbors':[2,3,4,5,6,7,8,9]}\n",
        "  knn = neighbors.KNeighborsRegressor()\n",
        "  model_knn = GridSearchCV(knn, params, cv=5)\n",
        "  model_knn.fit(x_train,y_train)\n",
        "  model_knn.best_params_\n",
        "  yhat = model_knn.predict(x_test)\n",
        "\t# store\n",
        "  x_trueK.append(x_test[0])\n",
        "  y_trueK.append(y_test[0])\n",
        "  y_pred_knn.append(yhat[0])"
      ],
      "execution_count": null,
      "outputs": [
        {
          "output_type": "stream",
          "name": "stdout",
          "text": [
            "LeaveOneOut()\n"
          ]
        }
      ]
    },
    {
      "cell_type": "markdown",
      "metadata": {
        "id": "E0f3-pGOEMIg"
      },
      "source": [
        "Performance of knn Regressor"
      ]
    },
    {
      "cell_type": "code",
      "metadata": {
        "colab": {
          "base_uri": "https://localhost:8080/"
        },
        "id": "wkqzjhVT3Z2p",
        "outputId": "88ce7866-81e6-4f74-d7fa-8de2e399c1ea"
      },
      "source": [
        "#performance r2 and mean absolute error\n",
        "import sklearn.metrics as metrics\n",
        "from sklearn.metrics import mean_squared_error, r2_score\n",
        "from sklearn.metrics import mean_absolute_error\n",
        "#print(\"model.coef_:{}\".format(model.coef_))\n",
        "#print(\"model.intercept_:{}\".format(model.intercept_))\n",
        "print(\"training score {:.2f}\",format(model_knn.score(x_train, y_train)))\n",
        "print(\"testinging score {:.2f}\",format(model_knn.score(x_true, y_true)))\n",
        "print(mean_absolute_error(y_true, y_pred_knn))"
      ],
      "execution_count": null,
      "outputs": [
        {
          "output_type": "stream",
          "name": "stdout",
          "text": [
            "training score {:.2f} 0.21113729514122437\n",
            "testinging score {:.2f} 0.21156522148193302\n",
            "7.184047619047617\n"
          ]
        }
      ]
    },
    {
      "cell_type": "markdown",
      "metadata": {
        "id": "WTrFoBuDYDNK"
      },
      "source": [
        "# **Ensemble Learning**"
      ]
    },
    {
      "cell_type": "code",
      "metadata": {
        "colab": {
          "base_uri": "https://localhost:8080/"
        },
        "id": "_Yv_lfTLYLXD",
        "outputId": "617cc787-728f-4f81-ef78-d3f8d9e5323a"
      },
      "source": [
        "from sklearn.ensemble import StackingRegressor\n",
        "from sklearn.model_selection import cross_val_score\n",
        "from sklearn.model_selection import LeaveOneOut\n",
        "from sklearn.preprocessing import StandardScaler\n",
        "loo = LeaveOneOut()\n",
        "loo.get_n_splits(X)\n",
        "print(loo)\n",
        "y_true, y_pred_esm,x_true = list(), list(),list()\n",
        "for train_index, test_index in loo.split(X):\n",
        "  x_train, x_test = X[train_index], X[test_index]\n",
        "  y_train, y_test = y[train_index], y[test_index]\n",
        "  scaler = StandardScaler()\n",
        "  scaler.fit(x_train)\n",
        "  x_train = scaler.transform(x_train)\n",
        "  x_test = scaler.transform(x_test)\n",
        "  models = [('model',LinearRegression()),('model_knn',neighbors.KNeighborsRegressor())]\n",
        "  clf= StackingRegressor(estimators=models, final_estimator=LinearRegression())\n",
        "  clf.fit(x_train, y_train)\n",
        "  yhat = clf.predict(x_test)\n",
        "  x_true.append(x_test[0])\n",
        "  y_true.append(y_test[0])\n",
        "  y_pred_esm.append(yhat[0])\n",
        "print(\"training score {:.2f}\",format(clf.score(x_train, y_train)))\n",
        "print(\"testinging score {:.2f}\",format(clf.score(x_true, y_true)))\n",
        "print(mean_absolute_error(y_true, y_pred_esm))"
      ],
      "execution_count": 25,
      "outputs": [
        {
          "output_type": "stream",
          "name": "stdout",
          "text": [
            "LeaveOneOut()\n",
            "training score {:.2f} 0.214758647906799\n",
            "testinging score {:.2f} 0.2078754145306666\n",
            "6.533569761426478\n"
          ]
        }
      ]
    }
  ]
}